{
 "cells": [
  {
   "cell_type": "code",
   "execution_count": 1,
   "id": "b7b1c482",
   "metadata": {},
   "outputs": [
    {
     "data": {
      "text/plain": [
       "{'foo': 'b', 'bar': ['a', 'b']}"
      ]
     },
     "execution_count": 1,
     "metadata": {},
     "output_type": "execute_result"
    }
   ],
   "source": [
    "from langgraph.graph import StateGraph, START, END\n",
    "from langgraph.checkpoint.memory import InMemorySaver\n",
    "from typing import Annotated\n",
    "from typing_extensions import TypedDict\n",
    "from operator import add\n",
    "\n",
    "\n",
    "class State(TypedDict):\n",
    "    foo: str\n",
    "    bar: Annotated[list[str], add]\n",
    "\n",
    "def node_a(state: State):\n",
    "    return {\"foo\": \"a\", \"bar\": [\"a\"]}\n",
    "\n",
    "def node_b(state: State):\n",
    "    return {\"foo\": \"b\", \"bar\": [\"b\"]}\n",
    "\n",
    "\n",
    "workflow = StateGraph(State)\n",
    "workflow.add_node(node_a)\n",
    "workflow.add_node(node_b)\n",
    "workflow.add_edge(START, \"node_a\")\n",
    "workflow.add_edge(\"node_a\", \"node_b\")\n",
    "workflow.add_edge(\"node_b\", END)\n",
    "\n",
    "checkpointer = InMemorySaver()\n",
    "graph = workflow.compile(checkpointer=checkpointer)\n",
    "\n",
    "config = {\"configurable\": {\"thread_id\": \"1\"}}\n",
    "graph.invoke({\"foo\": \"\"}, config)"
   ]
  },
  {
   "cell_type": "code",
   "execution_count": 6,
   "id": "0523f7b1",
   "metadata": {},
   "outputs": [
    {
     "data": {
      "text/plain": [
       "StateSnapshot(values={'foo': 'b', 'bar': ['a', 'b']}, next=(), config={'configurable': {'thread_id': '1', 'checkpoint_ns': '', 'checkpoint_id': '1f08cd7d-8c9c-6c70-8002-b2afe6db2e7f'}}, metadata={'source': 'loop', 'step': 2, 'parents': {}}, created_at='2025-09-08T17:18:33.144629+00:00', parent_config={'configurable': {'thread_id': '1', 'checkpoint_ns': '', 'checkpoint_id': '1f08cd7d-8c9b-6432-8001-1ab318a84144'}}, tasks=(), interrupts=())"
      ]
     },
     "execution_count": 6,
     "metadata": {},
     "output_type": "execute_result"
    }
   ],
   "source": [
    "type(graph.get_state(config))\n",
    "graph.get_state(config)"
   ]
  },
  {
   "cell_type": "code",
   "execution_count": 12,
   "id": "ef873829",
   "metadata": {},
   "outputs": [
    {
     "data": {
      "text/plain": [
       "[StateSnapshot(values={'foo': 'b', 'bar': ['a', 'b']}, next=(), config={'configurable': {'thread_id': '1', 'checkpoint_ns': '', 'checkpoint_id': '1f08cd7d-8c9c-6c70-8002-b2afe6db2e7f'}}, metadata={'source': 'loop', 'step': 2, 'parents': {}}, created_at='2025-09-08T17:18:33.144629+00:00', parent_config={'configurable': {'thread_id': '1', 'checkpoint_ns': '', 'checkpoint_id': '1f08cd7d-8c9b-6432-8001-1ab318a84144'}}, tasks=(), interrupts=()),\n",
       " StateSnapshot(values={'foo': 'a', 'bar': ['a']}, next=('node_b',), config={'configurable': {'thread_id': '1', 'checkpoint_ns': '', 'checkpoint_id': '1f08cd7d-8c9b-6432-8001-1ab318a84144'}}, metadata={'source': 'loop', 'step': 1, 'parents': {}}, created_at='2025-09-08T17:18:33.144008+00:00', parent_config={'configurable': {'thread_id': '1', 'checkpoint_ns': '', 'checkpoint_id': '1f08cd7d-8c99-65a3-8000-279b230cf018'}}, tasks=(PregelTask(id='a774fbb8-34fa-2949-0295-370bb5e8f1c2', name='node_b', path=('__pregel_pull', 'node_b'), error=None, interrupts=(), state=None, result={'foo': 'b', 'bar': ['b']}),), interrupts=()),\n",
       " StateSnapshot(values={'foo': '', 'bar': []}, next=('node_a',), config={'configurable': {'thread_id': '1', 'checkpoint_ns': '', 'checkpoint_id': '1f08cd7d-8c99-65a3-8000-279b230cf018'}}, metadata={'source': 'loop', 'step': 0, 'parents': {}}, created_at='2025-09-08T17:18:33.143225+00:00', parent_config={'configurable': {'thread_id': '1', 'checkpoint_ns': '', 'checkpoint_id': '1f08cd7d-8c97-685f-bfff-779433dcfacb'}}, tasks=(PregelTask(id='9cc16257-968b-ae9f-dfd8-1c53c6028aca', name='node_a', path=('__pregel_pull', 'node_a'), error=None, interrupts=(), state=None, result={'foo': 'a', 'bar': ['a']}),), interrupts=()),\n",
       " StateSnapshot(values={'bar': []}, next=('__start__',), config={'configurable': {'thread_id': '1', 'checkpoint_ns': '', 'checkpoint_id': '1f08cd7d-8c97-685f-bfff-779433dcfacb'}}, metadata={'source': 'input', 'step': -1, 'parents': {}}, created_at='2025-09-08T17:18:33.142461+00:00', parent_config=None, tasks=(PregelTask(id='f45f9c60-da10-dde7-f204-187cdf0e619a', name='__start__', path=('__pregel_pull', '__start__'), error=None, interrupts=(), state=None, result={'foo': ''}),), interrupts=())]"
      ]
     },
     "execution_count": 12,
     "metadata": {},
     "output_type": "execute_result"
    }
   ],
   "source": [
    "list(graph.get_state_history(config))\n"
   ]
  },
  {
   "cell_type": "code",
   "execution_count": 13,
   "id": "24d21d23",
   "metadata": {},
   "outputs": [
    {
     "data": {
      "image/png": "[encoded data removed]",
      "text/plain": [
       "<langgraph.graph.state.CompiledStateGraph object at 0x755684670170>"
      ]
     },
     "execution_count": 13,
     "metadata": {},
     "output_type": "execute_result"
    }
   ],
   "source": [
    "workflow.compile()"
   ]
  },
  {
   "cell_type": "code",
   "execution_count": 3,
   "id": "11445717",
   "metadata": {},
   "outputs": [
    {
     "data": {
      "text/plain": [
       "StateSnapshot(values={'foo': 'b', 'bar': ['a', 'b']}, next=(), config={'configurable': {'thread_id': '1', 'checkpoint_ns': '', 'checkpoint_id': '1f08ca72-60e7-67b4-8002-5fb118d59ff8'}}, metadata={'source': 'loop', 'step': 2, 'parents': {}}, created_at='2025-09-08T11:29:57.439468+00:00', parent_config={'configurable': {'thread_id': '1', 'checkpoint_ns': '', 'checkpoint_id': '1f08ca72-60e4-61fd-8001-7b18a56791ce'}}, tasks=(), interrupts=())"
      ]
     },
     "execution_count": 3,
     "metadata": {},
     "output_type": "execute_result"
    }
   ],
   "source": [
    "from langgraph.types import StateSnapshot\n",
    "StateSnapshot(values={'foo': 'b', 'bar': ['a', 'b']}, next=(), config={'configurable': {'thread_id': '1', 'checkpoint_ns': '', 'checkpoint_id': '1f08ca72-60e7-67b4-8002-5fb118d59ff8'}}, metadata={'source': 'loop', 'step': 2, 'parents': {}}, created_at='2025-09-08T11:29:57.439468+00:00', parent_config={'configurable': {'thread_id': '1', 'checkpoint_ns': '', 'checkpoint_id': '1f08ca72-60e4-61fd-8001-7b18a56791ce'}}, tasks=(), interrupts=())"
   ]
  },
  {
   "cell_type": "code",
   "execution_count": 14,
   "id": "2a875ab9",
   "metadata": {},
   "outputs": [],
   "source": [
    "import json\n",
    "from typing import Any, Dict\n",
    "\n",
    "def snapshot_to_db_record(snapshot) -> Dict[str, Any]:\n",
    "    checkpoint_id = snapshot.config.get(\"configurable\", {}).get(\"checkpoint_id\")\n",
    "    thread_id = snapshot.config.get(\"configurable\", {}).get(\"thread_id\")\n",
    "    return {\n",
    "        \"checkpoint_id\": checkpoint_id,\n",
    "        \"thread_id\": thread_id,\n",
    "        \"values\": json.dumps(snapshot.values),\n",
    "        \"next\": json.dumps(snapshot.next),\n",
    "        \"config\": json.dumps(snapshot.config),\n",
    "        \"metadata\": json.dumps(snapshot.metadata),\n",
    "        \"created_at\": snapshot.created_at,\n",
    "        \"parent_config\": json.dumps(snapshot.parent_config),\n",
    "        \"tasks\": json.dumps([t.__dict__ for t in snapshot.tasks]),\n",
    "        \"interrupts\": json.dumps(snapshot.interrupts),\n",
    "    }\n"
   ]
  },
  {
   "cell_type": "code",
   "execution_count": 17,
   "id": "184aacf6",
   "metadata": {},
   "outputs": [
    {
     "data": {
      "text/plain": [
       "{'checkpoint_id': '1f08cd7d-8c9c-6c70-8002-b2afe6db2e7f',\n",
       " 'thread_id': '1',\n",
       " 'values': '{\"foo\": \"b\", \"bar\": [\"a\", \"b\"]}',\n",
       " 'next': '[]',\n",
       " 'config': '{\"configurable\": {\"thread_id\": \"1\", \"checkpoint_ns\": \"\", \"checkpoint_id\": \"1f08cd7d-8c9c-6c70-8002-b2afe6db2e7f\"}}',\n",
       " 'metadata': '{\"source\": \"loop\", \"step\": 2, \"parents\": {}}',\n",
       " 'created_at': '2025-09-08T17:18:33.144629+00:00',\n",
       " 'parent_config': '{\"configurable\": {\"thread_id\": \"1\", \"checkpoint_ns\": \"\", \"checkpoint_id\": \"1f08cd7d-8c9b-6432-8001-1ab318a84144\"}}',\n",
       " 'tasks': '[]',\n",
       " 'interrupts': '[]'}"
      ]
     },
     "execution_count": 17,
     "metadata": {},
     "output_type": "execute_result"
    }
   ],
   "source": [
    "snapshot_to_db_record(list(graph.get_state_history(config))[0])"
   ]
  },
  {
   "cell_type": "code",
   "execution_count": null,
   "id": "cd85fb5d",
   "metadata": {},
   "outputs": [
    {
     "ename": "ImportError",
     "evalue": "cannot import name 'StateSnapshot' from 'langgraph.checkpoint.base' (/usr/local/python/3.12.1/lib/python3.12/site-packages/langgraph/checkpoint/base/__init__.py)",
     "output_type": "error",
     "traceback": [
      "\u001b[31m---------------------------------------------------------------------------\u001b[39m",
      "\u001b[31mImportError\u001b[39m                               Traceback (most recent call last)",
      "\u001b[36mCell\u001b[39m\u001b[36m \u001b[39m\u001b[32mIn[18]\u001b[39m\u001b[32m, line 2\u001b[39m\n\u001b[32m      1\u001b[39m \u001b[38;5;28;01mimport\u001b[39;00m\u001b[38;5;250m \u001b[39m\u001b[34;01mjson\u001b[39;00m\n\u001b[32m----> \u001b[39m\u001b[32m2\u001b[39m \u001b[38;5;28;01mfrom\u001b[39;00m\u001b[38;5;250m \u001b[39m\u001b[34;01mlanggraph\u001b[39;00m\u001b[34;01m.\u001b[39;00m\u001b[34;01mcheckpoint\u001b[39;00m\u001b[34;01m.\u001b[39;00m\u001b[34;01mbase\u001b[39;00m\u001b[38;5;250m \u001b[39m\u001b[38;5;28;01mimport\u001b[39;00m StateSnapshot, PregelTask\n\u001b[32m      4\u001b[39m \u001b[38;5;28;01mdef\u001b[39;00m\u001b[38;5;250m \u001b[39m\u001b[34mdb_record_to_snapshot\u001b[39m(record) -> StateSnapshot:\n\u001b[32m      5\u001b[39m     tasks = [PregelTask(**t) \u001b[38;5;28;01mfor\u001b[39;00m t \u001b[38;5;129;01min\u001b[39;00m json.loads(record[\u001b[33m\"\u001b[39m\u001b[33mtasks\u001b[39m\u001b[33m\"\u001b[39m])]\n",
      "\u001b[31mImportError\u001b[39m: cannot import name 'StateSnapshot' from 'langgraph.checkpoint.base' (/usr/local/python/3.12.1/lib/python3.12/site-packages/langgraph/checkpoint/base/__init__.py)"
     ]
    }
   ],
   "source": [
    "import json\n",
    "from langgraph.checkpoint.base import StateSnapshot, PregelTask\n",
    "\n",
    "def db_record_to_snapshot(record) -> StateSnapshot:\n",
    "    tasks = [PregelTask(**t) for t in json.loads(record[\"tasks\"])]\n",
    "    return StateSnapshot(\n",
    "        values=json.loads(record[\"values\"]),\n",
    "        next=tuple(json.loads(record[\"next\"])),\n",
    "        config=json.loads(record[\"config\"]),\n",
    "        metadata=json.loads(record[\"metadata\"]),\n",
    "        created_at=record[\"created_at\"],\n",
    "        parent_config=json.loads(record[\"parent_config\"]),\n",
    "        tasks=tuple(tasks),\n",
    "        interrupts=tuple(json.loads(record[\"interrupts\"])),\n",
    "    )\n"
   ]
  }
 ],
 "metadata": {
  "kernelspec": {
   "display_name": "Python 3",
   "language": "python",
   "name": "python3"
  },
  "language_info": {
   "codemirror_mode": {
    "name": "ipython",
    "version": 3
   },
   "file_extension": ".py",
   "mimetype": "text/x-python",
   "name": "python",
   "nbconvert_exporter": "python",
   "pygments_lexer": "ipython3",
   "version": "3.12.1"
  }
 },
 "nbformat": 4,
 "nbformat_minor": 5
}
